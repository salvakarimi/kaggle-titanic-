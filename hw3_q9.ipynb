{
  "nbformat": 4,
  "nbformat_minor": 0,
  "metadata": {
    "colab": {
      "name": "hw4_q9.ipynb",
      "provenance": [],
      "collapsed_sections": [],
      "toc_visible": true
    },
    "kernelspec": {
      "name": "python3",
      "display_name": "Python 3"
    }
  },
  "cells": [
    {
      "cell_type": "code",
      "metadata": {
        "id": "bdwbNraDFjow"
      },
      "source": [
        "import numpy as np\n",
        "import time\n",
        "import pandas as pd\n",
        "import matplotlib.pyplot as plt\n",
        "import scipy\n",
        "from sklearn import tree\n",
        "import seaborn as sns\n",
        "from sklearn.tree import DecisionTreeClassifier # Import Decision Tree Classifier\n",
        "from sklearn.model_selection import train_test_split # Import train_test_split function\n",
        "from sklearn import metrics #Import scikit-learn metrics module for accuracy calculation\n",
        "from sklearn.ensemble import RandomForestClassifier"
      ],
      "execution_count": 1,
      "outputs": []
    },
    {
      "cell_type": "code",
      "metadata": {
        "id": "IocvIpxMG1_b"
      },
      "source": [
        "titanic_train = pd.read_csv('/content/train.csv')\n",
        "titanic_test = pd.read_csv('/content/test.csv')"
      ],
      "execution_count": 5,
      "outputs": []
    },
    {
      "cell_type": "code",
      "metadata": {
        "colab": {
          "base_uri": "https://localhost:8080/",
          "height": 255
        },
        "id": "FUQRJpsrSV0h",
        "outputId": "810e057a-cc6a-43b2-f6e9-6dfcb261183d"
      },
      "source": [
        "titanic_train.head()"
      ],
      "execution_count": 6,
      "outputs": [
        {
          "output_type": "execute_result",
          "data": {
            "text/html": [
              "<div>\n",
              "<style scoped>\n",
              "    .dataframe tbody tr th:only-of-type {\n",
              "        vertical-align: middle;\n",
              "    }\n",
              "\n",
              "    .dataframe tbody tr th {\n",
              "        vertical-align: top;\n",
              "    }\n",
              "\n",
              "    .dataframe thead th {\n",
              "        text-align: right;\n",
              "    }\n",
              "</style>\n",
              "<table border=\"1\" class=\"dataframe\">\n",
              "  <thead>\n",
              "    <tr style=\"text-align: right;\">\n",
              "      <th></th>\n",
              "      <th>PassengerId</th>\n",
              "      <th>Survived</th>\n",
              "      <th>Pclass</th>\n",
              "      <th>Name</th>\n",
              "      <th>Sex</th>\n",
              "      <th>Age</th>\n",
              "      <th>SibSp</th>\n",
              "      <th>Parch</th>\n",
              "      <th>Ticket</th>\n",
              "      <th>Fare</th>\n",
              "      <th>Cabin</th>\n",
              "      <th>Embarked</th>\n",
              "    </tr>\n",
              "  </thead>\n",
              "  <tbody>\n",
              "    <tr>\n",
              "      <th>0</th>\n",
              "      <td>1</td>\n",
              "      <td>0</td>\n",
              "      <td>3</td>\n",
              "      <td>Braund, Mr. Owen Harris</td>\n",
              "      <td>male</td>\n",
              "      <td>22.0</td>\n",
              "      <td>1</td>\n",
              "      <td>0</td>\n",
              "      <td>A/5 21171</td>\n",
              "      <td>7.2500</td>\n",
              "      <td>NaN</td>\n",
              "      <td>S</td>\n",
              "    </tr>\n",
              "    <tr>\n",
              "      <th>1</th>\n",
              "      <td>2</td>\n",
              "      <td>1</td>\n",
              "      <td>1</td>\n",
              "      <td>Cumings, Mrs. John Bradley (Florence Briggs Th...</td>\n",
              "      <td>female</td>\n",
              "      <td>38.0</td>\n",
              "      <td>1</td>\n",
              "      <td>0</td>\n",
              "      <td>PC 17599</td>\n",
              "      <td>71.2833</td>\n",
              "      <td>C85</td>\n",
              "      <td>C</td>\n",
              "    </tr>\n",
              "    <tr>\n",
              "      <th>2</th>\n",
              "      <td>3</td>\n",
              "      <td>1</td>\n",
              "      <td>3</td>\n",
              "      <td>Heikkinen, Miss. Laina</td>\n",
              "      <td>female</td>\n",
              "      <td>26.0</td>\n",
              "      <td>0</td>\n",
              "      <td>0</td>\n",
              "      <td>STON/O2. 3101282</td>\n",
              "      <td>7.9250</td>\n",
              "      <td>NaN</td>\n",
              "      <td>S</td>\n",
              "    </tr>\n",
              "    <tr>\n",
              "      <th>3</th>\n",
              "      <td>4</td>\n",
              "      <td>1</td>\n",
              "      <td>1</td>\n",
              "      <td>Futrelle, Mrs. Jacques Heath (Lily May Peel)</td>\n",
              "      <td>female</td>\n",
              "      <td>35.0</td>\n",
              "      <td>1</td>\n",
              "      <td>0</td>\n",
              "      <td>113803</td>\n",
              "      <td>53.1000</td>\n",
              "      <td>C123</td>\n",
              "      <td>S</td>\n",
              "    </tr>\n",
              "    <tr>\n",
              "      <th>4</th>\n",
              "      <td>5</td>\n",
              "      <td>0</td>\n",
              "      <td>3</td>\n",
              "      <td>Allen, Mr. William Henry</td>\n",
              "      <td>male</td>\n",
              "      <td>35.0</td>\n",
              "      <td>0</td>\n",
              "      <td>0</td>\n",
              "      <td>373450</td>\n",
              "      <td>8.0500</td>\n",
              "      <td>NaN</td>\n",
              "      <td>S</td>\n",
              "    </tr>\n",
              "  </tbody>\n",
              "</table>\n",
              "</div>"
            ],
            "text/plain": [
              "   PassengerId  Survived  Pclass  ...     Fare Cabin  Embarked\n",
              "0            1         0       3  ...   7.2500   NaN         S\n",
              "1            2         1       1  ...  71.2833   C85         C\n",
              "2            3         1       3  ...   7.9250   NaN         S\n",
              "3            4         1       1  ...  53.1000  C123         S\n",
              "4            5         0       3  ...   8.0500   NaN         S\n",
              "\n",
              "[5 rows x 12 columns]"
            ]
          },
          "metadata": {
            "tags": []
          },
          "execution_count": 6
        }
      ]
    },
    {
      "cell_type": "markdown",
      "metadata": {
        "id": "3-URXJAlNPby"
      },
      "source": [
        "drawing plots to have more information about the dataset"
      ]
    },
    {
      "cell_type": "code",
      "metadata": {
        "colab": {
          "base_uri": "https://localhost:8080/",
          "height": 333
        },
        "id": "CCI_cpg6NVqU",
        "outputId": "8e11d154-dad0-4f64-971b-6dd387e1bca5"
      },
      "source": [
        "sns.heatmap(titanic_train.isnull(),yticklabels=False,cbar=False,cmap='viridis')"
      ],
      "execution_count": null,
      "outputs": [
        {
          "output_type": "execute_result",
          "data": {
            "text/plain": [
              "<matplotlib.axes._subplots.AxesSubplot at 0x7fcdc62fd780>"
            ]
          },
          "metadata": {
            "tags": []
          },
          "execution_count": 32
        },
        {
          "output_type": "display_data",
          "data": {
            "image/png": "[encoded data removed]",
            "text/plain": [
              "<Figure size 432x288 with 1 Axes>"
            ]
          },
          "metadata": {
            "tags": [],
            "needs_background": "light"
          }
        }
      ]
    },
    {
      "cell_type": "markdown",
      "metadata": {
        "id": "o5NNk-bpqJah"
      },
      "source": [
        "# removing null values"
      ]
    },
    {
      "cell_type": "markdown",
      "metadata": {
        "id": "7ujaGVOVNn1C"
      },
      "source": [
        "we can see that alot of age and cabin info are missing\n",
        "so we need to look further into them inorder to see how they affect the survival rate"
      ]
    },
    {
      "cell_type": "markdown",
      "metadata": {
        "id": "kgG_ThGNwVsO"
      },
      "source": [
        "first we binarize cabin so that: \n",
        "having cabin information=1\n",
        "not having cabin information=0"
      ]
    },
    {
      "cell_type": "code",
      "metadata": {
        "colab": {
          "base_uri": "https://localhost:8080/",
          "height": 204
        },
        "id": "_OrGHB6ARLbJ",
        "outputId": "6a0d89e3-11b3-4939-8191-a0d7092a3fd6"
      },
      "source": [
        "#binarizing the 'Cabin' coloumn in train and test data set\n",
        "\n",
        "titanic_train['Cabin']=(titanic_train['Cabin'].notnull()).astype('int')\n",
        "titanic_test['Cabin']=(titanic_test['Cabin'].notnull()).astype('int')\n",
        "titanic_test.head()\n"
      ],
      "execution_count": 7,
      "outputs": [
        {
          "output_type": "execute_result",
          "data": {
            "text/html": [
              "<div>\n",
              "<style scoped>\n",
              "    .dataframe tbody tr th:only-of-type {\n",
              "        vertical-align: middle;\n",
              "    }\n",
              "\n",
              "    .dataframe tbody tr th {\n",
              "        vertical-align: top;\n",
              "    }\n",
              "\n",
              "    .dataframe thead th {\n",
              "        text-align: right;\n",
              "    }\n",
              "</style>\n",
              "<table border=\"1\" class=\"dataframe\">\n",
              "  <thead>\n",
              "    <tr style=\"text-align: right;\">\n",
              "      <th></th>\n",
              "      <th>PassengerId</th>\n",
              "      <th>Pclass</th>\n",
              "      <th>Name</th>\n",
              "      <th>Sex</th>\n",
              "      <th>Age</th>\n",
              "      <th>SibSp</th>\n",
              "      <th>Parch</th>\n",
              "      <th>Ticket</th>\n",
              "      <th>Fare</th>\n",
              "      <th>Cabin</th>\n",
              "      <th>Embarked</th>\n",
              "    </tr>\n",
              "  </thead>\n",
              "  <tbody>\n",
              "    <tr>\n",
              "      <th>0</th>\n",
              "      <td>892</td>\n",
              "      <td>3</td>\n",
              "      <td>Kelly, Mr. James</td>\n",
              "      <td>male</td>\n",
              "      <td>34.5</td>\n",
              "      <td>0</td>\n",
              "      <td>0</td>\n",
              "      <td>330911</td>\n",
              "      <td>7.8292</td>\n",
              "      <td>0</td>\n",
              "      <td>Q</td>\n",
              "    </tr>\n",
              "    <tr>\n",
              "      <th>1</th>\n",
              "      <td>893</td>\n",
              "      <td>3</td>\n",
              "      <td>Wilkes, Mrs. James (Ellen Needs)</td>\n",
              "      <td>female</td>\n",
              "      <td>47.0</td>\n",
              "      <td>1</td>\n",
              "      <td>0</td>\n",
              "      <td>363272</td>\n",
              "      <td>7.0000</td>\n",
              "      <td>0</td>\n",
              "      <td>S</td>\n",
              "    </tr>\n",
              "    <tr>\n",
              "      <th>2</th>\n",
              "      <td>894</td>\n",
              "      <td>2</td>\n",
              "      <td>Myles, Mr. Thomas Francis</td>\n",
              "      <td>male</td>\n",
              "      <td>62.0</td>\n",
              "      <td>0</td>\n",
              "      <td>0</td>\n",
              "      <td>240276</td>\n",
              "      <td>9.6875</td>\n",
              "      <td>0</td>\n",
              "      <td>Q</td>\n",
              "    </tr>\n",
              "    <tr>\n",
              "      <th>3</th>\n",
              "      <td>895</td>\n",
              "      <td>3</td>\n",
              "      <td>Wirz, Mr. Albert</td>\n",
              "      <td>male</td>\n",
              "      <td>27.0</td>\n",
              "      <td>0</td>\n",
              "      <td>0</td>\n",
              "      <td>315154</td>\n",
              "      <td>8.6625</td>\n",
              "      <td>0</td>\n",
              "      <td>S</td>\n",
              "    </tr>\n",
              "    <tr>\n",
              "      <th>4</th>\n",
              "      <td>896</td>\n",
              "      <td>3</td>\n",
              "      <td>Hirvonen, Mrs. Alexander (Helga E Lindqvist)</td>\n",
              "      <td>female</td>\n",
              "      <td>22.0</td>\n",
              "      <td>1</td>\n",
              "      <td>1</td>\n",
              "      <td>3101298</td>\n",
              "      <td>12.2875</td>\n",
              "      <td>0</td>\n",
              "      <td>S</td>\n",
              "    </tr>\n",
              "  </tbody>\n",
              "</table>\n",
              "</div>"
            ],
            "text/plain": [
              "   PassengerId  Pclass  ... Cabin Embarked\n",
              "0          892       3  ...     0        Q\n",
              "1          893       3  ...     0        S\n",
              "2          894       2  ...     0        Q\n",
              "3          895       3  ...     0        S\n",
              "4          896       3  ...     0        S\n",
              "\n",
              "[5 rows x 11 columns]"
            ]
          },
          "metadata": {
            "tags": []
          },
          "execution_count": 7
        }
      ]
    },
    {
      "cell_type": "markdown",
      "metadata": {
        "id": "fVKXNfagiLuT"
      },
      "source": [
        "We want to fill in missing age data.\n",
        "age is probably related to passenger class, we will find the realtionship using a boxplot"
      ]
    },
    {
      "cell_type": "code",
      "metadata": {
        "colab": {
          "base_uri": "https://localhost:8080/",
          "height": 459
        },
        "id": "qCA-pnVoiyJH",
        "outputId": "11f43c17-6106-4ff9-9e2d-e7f321d9be34"
      },
      "source": [
        "plt.figure(figsize=(12, 7))\n",
        "sns.boxplot(x='Pclass',y='Age',data=titanic_train,palette='winter')"
      ],
      "execution_count": 8,
      "outputs": [
        {
          "output_type": "execute_result",
          "data": {
            "text/plain": [
              "<matplotlib.axes._subplots.AxesSubplot at 0x7f08a30c08d0>"
            ]
          },
          "metadata": {
            "tags": []
          },
          "execution_count": 8
        },
        {
          "output_type": "display_data",
          "data": {
            "image/png": "[encoded data removed]",
            "text/plain": [
              "<Figure size 864x504 with 1 Axes>"
            ]
          },
          "metadata": {
            "tags": [],
            "needs_background": "light"
          }
        }
      ]
    },
    {
      "cell_type": "markdown",
      "metadata": {
        "id": "-geCJMQ_nvX_"
      },
      "source": [
        "We can see that passengers in the higher classes tend to be older so we'll use these average age values to impute based on Pclass for Age.\n",
        "So we'll fil la class1 passenger's age with 37, a class2 passenger's age with 29 and a class3 passenger's age with 24"
      ]
    },
    {
      "cell_type": "code",
      "metadata": {
        "id": "aJKCE00RoXB5"
      },
      "source": [
        "\n",
        "def impute_age(cols):\n",
        "    Age = cols[0]\n",
        "    Pclass = cols[1]    \n",
        "    if pd.isnull(Age):\n",
        "        if Pclass == 1:\n",
        "            return 37\n",
        "        elif Pclass == 2:\n",
        "            return 29\n",
        "        else:\n",
        "            return 24\n",
        "    else:\n",
        "        return Age"
      ],
      "execution_count": 9,
      "outputs": []
    },
    {
      "cell_type": "markdown",
      "metadata": {
        "id": "ssLm8NkAodE7"
      },
      "source": [
        "applying the function"
      ]
    },
    {
      "cell_type": "code",
      "metadata": {
        "id": "OopOuQ_pokUa"
      },
      "source": [
        "titanic_train['Age'] = titanic_train[['Age','Pclass']].apply(impute_age,axis=1)\n",
        "titanic_test['Age'] = titanic_test[['Age','Pclass']].apply(impute_age,axis=1)"
      ],
      "execution_count": 10,
      "outputs": []
    },
    {
      "cell_type": "markdown",
      "metadata": {
        "id": "JLn9NgyNpQBp"
      },
      "source": [
        "after removing the null values from Age and Cabin,let's check the heatmap again"
      ]
    },
    {
      "cell_type": "code",
      "metadata": {
        "colab": {
          "base_uri": "https://localhost:8080/",
          "height": 333
        },
        "id": "DMle1L2Gpjix",
        "outputId": "6fe5f1fe-3b75-4573-f1a7-4033ca128a4a"
      },
      "source": [
        "sns.heatmap(titanic_train.isnull(),yticklabels=False,cbar=False,cmap='viridis')"
      ],
      "execution_count": 11,
      "outputs": [
        {
          "output_type": "execute_result",
          "data": {
            "text/plain": [
              "<matplotlib.axes._subplots.AxesSubplot at 0x7f08a2b272e8>"
            ]
          },
          "metadata": {
            "tags": []
          },
          "execution_count": 11
        },
        {
          "output_type": "display_data",
          "data": {
            "image/png": "[encoded data removed]",
            "text/plain": [
              "<Figure size 432x288 with 1 Axes>"
            ]
          },
          "metadata": {
            "tags": [],
            "needs_background": "light"
          }
        }
      ]
    },
    {
      "cell_type": "markdown",
      "metadata": {
        "id": "U6a4JqSol-ml"
      },
      "source": [
        "removing null values form Fare by guessing the fare using the Pclass"
      ]
    },
    {
      "cell_type": "code",
      "metadata": {
        "colab": {
          "base_uri": "https://localhost:8080/",
          "height": 459
        },
        "id": "MY_iiokpmYLx",
        "outputId": "8e064c50-b44e-4342-ce85-180b9216d0de"
      },
      "source": [
        "plt.figure(figsize=(12, 7))\n",
        "sns.boxplot(x='Pclass',y='Fare',data=titanic_train,palette='winter')"
      ],
      "execution_count": 13,
      "outputs": [
        {
          "output_type": "execute_result",
          "data": {
            "text/plain": [
              "<matplotlib.axes._subplots.AxesSubplot at 0x7f08a2b13470>"
            ]
          },
          "metadata": {
            "tags": []
          },
          "execution_count": 13
        },
        {
          "output_type": "display_data",
          "data": {
            "image/png": "[encoded data removed]",
            "text/plain": [
              "<Figure size 864x504 with 1 Axes>"
            ]
          },
          "metadata": {
            "tags": [],
            "needs_background": "light"
          }
        }
      ]
    },
    {
      "cell_type": "code",
      "metadata": {
        "id": "9M-zAbfyl8To"
      },
      "source": [
        "def impute_fare(cols):\n",
        "    Fare = cols[0]\n",
        "    Pclass = cols[1]    \n",
        "    if pd.isnull(Fare):\n",
        "        if Pclass == 1:\n",
        "            return 60\n",
        "        elif Pclass == 2:\n",
        "            return 15\n",
        "        else:\n",
        "            return 10\n",
        "    else:\n",
        "        return Fare"
      ],
      "execution_count": 14,
      "outputs": []
    },
    {
      "cell_type": "code",
      "metadata": {
        "id": "eyXoZBaUm4G6"
      },
      "source": [
        "titanic_train['Fare'] = titanic_train[['Fare','Pclass']].apply(impute_fare,axis=1)\n",
        "titanic_test['Fare'] = titanic_test[['Fare','Pclass']].apply(impute_fare,axis=1)\n"
      ],
      "execution_count": 15,
      "outputs": []
    },
    {
      "cell_type": "markdown",
      "metadata": {
        "id": "Z7YAsoGIn3Gl"
      },
      "source": [
        "now we need to see how to guess the null values in Embarked"
      ]
    },
    {
      "cell_type": "markdown",
      "metadata": {
        "id": "aWvZIvauss11"
      },
      "source": [
        "I used countplots of embarked with the other features after mapping embarked values with integers and I can conclude that replacin null values in Embaerked with S is good option"
      ]
    },
    {
      "cell_type": "code",
      "metadata": {
        "id": "0VnOfWiGtmyb"
      },
      "source": [
        "titanic_train[\"Embarked\"].fillna(\"S\", inplace = True) \n",
        "titanic_test[\"Embarked\"].fillna(\"S\", inplace = True)"
      ],
      "execution_count": 16,
      "outputs": []
    },
    {
      "cell_type": "markdown",
      "metadata": {
        "id": "By563fWMpzO_"
      },
      "source": [
        "# **now we need to convert the categorical features**"
      ]
    },
    {
      "cell_type": "markdown",
      "metadata": {
        "id": "tfn5TfXLp7Jg"
      },
      "source": [
        "in the 'Sex' coloumn,we replace male with 0 and female with 1"
      ]
    },
    {
      "cell_type": "code",
      "metadata": {
        "id": "IihfIFRfrEI1"
      },
      "source": [
        "titanic_train['Sex'] = titanic_train['Sex'].map({'male': 0,'female': 1})\n",
        "titanic_test['Sex'] = titanic_test['Sex'].map({'male': 0,'female': 1})"
      ],
      "execution_count": 17,
      "outputs": []
    },
    {
      "cell_type": "code",
      "metadata": {
        "colab": {
          "base_uri": "https://localhost:8080/",
          "height": 255
        },
        "id": "HzcXipXar5_v",
        "outputId": "c5417bca-1a57-452d-89e3-b45cd358937e"
      },
      "source": [
        "titanic_train.head()"
      ],
      "execution_count": 18,
      "outputs": [
        {
          "output_type": "execute_result",
          "data": {
            "text/html": [
              "<div>\n",
              "<style scoped>\n",
              "    .dataframe tbody tr th:only-of-type {\n",
              "        vertical-align: middle;\n",
              "    }\n",
              "\n",
              "    .dataframe tbody tr th {\n",
              "        vertical-align: top;\n",
              "    }\n",
              "\n",
              "    .dataframe thead th {\n",
              "        text-align: right;\n",
              "    }\n",
              "</style>\n",
              "<table border=\"1\" class=\"dataframe\">\n",
              "  <thead>\n",
              "    <tr style=\"text-align: right;\">\n",
              "      <th></th>\n",
              "      <th>PassengerId</th>\n",
              "      <th>Survived</th>\n",
              "      <th>Pclass</th>\n",
              "      <th>Name</th>\n",
              "      <th>Sex</th>\n",
              "      <th>Age</th>\n",
              "      <th>SibSp</th>\n",
              "      <th>Parch</th>\n",
              "      <th>Ticket</th>\n",
              "      <th>Fare</th>\n",
              "      <th>Cabin</th>\n",
              "      <th>Embarked</th>\n",
              "    </tr>\n",
              "  </thead>\n",
              "  <tbody>\n",
              "    <tr>\n",
              "      <th>0</th>\n",
              "      <td>1</td>\n",
              "      <td>0</td>\n",
              "      <td>3</td>\n",
              "      <td>Braund, Mr. Owen Harris</td>\n",
              "      <td>0</td>\n",
              "      <td>22.0</td>\n",
              "      <td>1</td>\n",
              "      <td>0</td>\n",
              "      <td>A/5 21171</td>\n",
              "      <td>7.2500</td>\n",
              "      <td>0</td>\n",
              "      <td>S</td>\n",
              "    </tr>\n",
              "    <tr>\n",
              "      <th>1</th>\n",
              "      <td>2</td>\n",
              "      <td>1</td>\n",
              "      <td>1</td>\n",
              "      <td>Cumings, Mrs. John Bradley (Florence Briggs Th...</td>\n",
              "      <td>1</td>\n",
              "      <td>38.0</td>\n",
              "      <td>1</td>\n",
              "      <td>0</td>\n",
              "      <td>PC 17599</td>\n",
              "      <td>71.2833</td>\n",
              "      <td>1</td>\n",
              "      <td>C</td>\n",
              "    </tr>\n",
              "    <tr>\n",
              "      <th>2</th>\n",
              "      <td>3</td>\n",
              "      <td>1</td>\n",
              "      <td>3</td>\n",
              "      <td>Heikkinen, Miss. Laina</td>\n",
              "      <td>1</td>\n",
              "      <td>26.0</td>\n",
              "      <td>0</td>\n",
              "      <td>0</td>\n",
              "      <td>STON/O2. 3101282</td>\n",
              "      <td>7.9250</td>\n",
              "      <td>0</td>\n",
              "      <td>S</td>\n",
              "    </tr>\n",
              "    <tr>\n",
              "      <th>3</th>\n",
              "      <td>4</td>\n",
              "      <td>1</td>\n",
              "      <td>1</td>\n",
              "      <td>Futrelle, Mrs. Jacques Heath (Lily May Peel)</td>\n",
              "      <td>1</td>\n",
              "      <td>35.0</td>\n",
              "      <td>1</td>\n",
              "      <td>0</td>\n",
              "      <td>113803</td>\n",
              "      <td>53.1000</td>\n",
              "      <td>1</td>\n",
              "      <td>S</td>\n",
              "    </tr>\n",
              "    <tr>\n",
              "      <th>4</th>\n",
              "      <td>5</td>\n",
              "      <td>0</td>\n",
              "      <td>3</td>\n",
              "      <td>Allen, Mr. William Henry</td>\n",
              "      <td>0</td>\n",
              "      <td>35.0</td>\n",
              "      <td>0</td>\n",
              "      <td>0</td>\n",
              "      <td>373450</td>\n",
              "      <td>8.0500</td>\n",
              "      <td>0</td>\n",
              "      <td>S</td>\n",
              "    </tr>\n",
              "  </tbody>\n",
              "</table>\n",
              "</div>"
            ],
            "text/plain": [
              "   PassengerId  Survived  Pclass  ...     Fare  Cabin  Embarked\n",
              "0            1         0       3  ...   7.2500      0         S\n",
              "1            2         1       1  ...  71.2833      1         C\n",
              "2            3         1       3  ...   7.9250      0         S\n",
              "3            4         1       1  ...  53.1000      1         S\n",
              "4            5         0       3  ...   8.0500      0         S\n",
              "\n",
              "[5 rows x 12 columns]"
            ]
          },
          "metadata": {
            "tags": []
          },
          "execution_count": 18
        }
      ]
    },
    {
      "cell_type": "markdown",
      "metadata": {
        "id": "gJuybcI7sbqN"
      },
      "source": [
        "in the 'Embarked' coloumn we replace Q with 0,S with 1 and C with 2"
      ]
    },
    {
      "cell_type": "code",
      "metadata": {
        "id": "2fHU0tBTuHzJ"
      },
      "source": [
        "mymap = {'Q':0, 'S':1, 'C':2}\n",
        "\n",
        "#titanic_train['Embarked']=titanic_train['Embarked'].applymap(lambda s: mymap.get(s) if s in mymap else s)\n",
        "#titanic_test['Embarked']=titanic_test['Embarked'].applymap(lambda t: mymap.get(t) if t in mymap else t)\n",
        "titanic_train['Embarked']=titanic_train['Embarked'].replace(to_replace=\"Q\",value=\"0\")\n",
        "titanic_train['Embarked']=titanic_train['Embarked'].replace(to_replace=\"S\",value=\"1\")\n",
        "titanic_train['Embarked']=titanic_train['Embarked'].replace(to_replace=\"C\",value=\"2\")\n",
        "titanic_test['Embarked']=titanic_test['Embarked'].replace(to_replace=\"Q\",value=\"0\")\n",
        "titanic_test['Embarked']=titanic_test['Embarked'].replace(to_replace=\"S\",value=\"1\")\n",
        "titanic_test['Embarked']=titanic_test['Embarked'].replace(to_replace=\"C\",value=\"2\")\n"
      ],
      "execution_count": 19,
      "outputs": []
    },
    {
      "cell_type": "code",
      "metadata": {
        "colab": {
          "base_uri": "https://localhost:8080/",
          "height": 204
        },
        "id": "zY3ri-rdujiP",
        "outputId": "0e71233d-3004-4d85-f077-f64e79b4ee4b"
      },
      "source": [
        "titanic_test.head()"
      ],
      "execution_count": 20,
      "outputs": [
        {
          "output_type": "execute_result",
          "data": {
            "text/html": [
              "<div>\n",
              "<style scoped>\n",
              "    .dataframe tbody tr th:only-of-type {\n",
              "        vertical-align: middle;\n",
              "    }\n",
              "\n",
              "    .dataframe tbody tr th {\n",
              "        vertical-align: top;\n",
              "    }\n",
              "\n",
              "    .dataframe thead th {\n",
              "        text-align: right;\n",
              "    }\n",
              "</style>\n",
              "<table border=\"1\" class=\"dataframe\">\n",
              "  <thead>\n",
              "    <tr style=\"text-align: right;\">\n",
              "      <th></th>\n",
              "      <th>PassengerId</th>\n",
              "      <th>Pclass</th>\n",
              "      <th>Name</th>\n",
              "      <th>Sex</th>\n",
              "      <th>Age</th>\n",
              "      <th>SibSp</th>\n",
              "      <th>Parch</th>\n",
              "      <th>Ticket</th>\n",
              "      <th>Fare</th>\n",
              "      <th>Cabin</th>\n",
              "      <th>Embarked</th>\n",
              "    </tr>\n",
              "  </thead>\n",
              "  <tbody>\n",
              "    <tr>\n",
              "      <th>0</th>\n",
              "      <td>892</td>\n",
              "      <td>3</td>\n",
              "      <td>Kelly, Mr. James</td>\n",
              "      <td>0</td>\n",
              "      <td>34.5</td>\n",
              "      <td>0</td>\n",
              "      <td>0</td>\n",
              "      <td>330911</td>\n",
              "      <td>7.8292</td>\n",
              "      <td>0</td>\n",
              "      <td>0</td>\n",
              "    </tr>\n",
              "    <tr>\n",
              "      <th>1</th>\n",
              "      <td>893</td>\n",
              "      <td>3</td>\n",
              "      <td>Wilkes, Mrs. James (Ellen Needs)</td>\n",
              "      <td>1</td>\n",
              "      <td>47.0</td>\n",
              "      <td>1</td>\n",
              "      <td>0</td>\n",
              "      <td>363272</td>\n",
              "      <td>7.0000</td>\n",
              "      <td>0</td>\n",
              "      <td>1</td>\n",
              "    </tr>\n",
              "    <tr>\n",
              "      <th>2</th>\n",
              "      <td>894</td>\n",
              "      <td>2</td>\n",
              "      <td>Myles, Mr. Thomas Francis</td>\n",
              "      <td>0</td>\n",
              "      <td>62.0</td>\n",
              "      <td>0</td>\n",
              "      <td>0</td>\n",
              "      <td>240276</td>\n",
              "      <td>9.6875</td>\n",
              "      <td>0</td>\n",
              "      <td>0</td>\n",
              "    </tr>\n",
              "    <tr>\n",
              "      <th>3</th>\n",
              "      <td>895</td>\n",
              "      <td>3</td>\n",
              "      <td>Wirz, Mr. Albert</td>\n",
              "      <td>0</td>\n",
              "      <td>27.0</td>\n",
              "      <td>0</td>\n",
              "      <td>0</td>\n",
              "      <td>315154</td>\n",
              "      <td>8.6625</td>\n",
              "      <td>0</td>\n",
              "      <td>1</td>\n",
              "    </tr>\n",
              "    <tr>\n",
              "      <th>4</th>\n",
              "      <td>896</td>\n",
              "      <td>3</td>\n",
              "      <td>Hirvonen, Mrs. Alexander (Helga E Lindqvist)</td>\n",
              "      <td>1</td>\n",
              "      <td>22.0</td>\n",
              "      <td>1</td>\n",
              "      <td>1</td>\n",
              "      <td>3101298</td>\n",
              "      <td>12.2875</td>\n",
              "      <td>0</td>\n",
              "      <td>1</td>\n",
              "    </tr>\n",
              "  </tbody>\n",
              "</table>\n",
              "</div>"
            ],
            "text/plain": [
              "   PassengerId  Pclass  ... Cabin  Embarked\n",
              "0          892       3  ...     0         0\n",
              "1          893       3  ...     0         1\n",
              "2          894       2  ...     0         0\n",
              "3          895       3  ...     0         1\n",
              "4          896       3  ...     0         1\n",
              "\n",
              "[5 rows x 11 columns]"
            ]
          },
          "metadata": {
            "tags": []
          },
          "execution_count": 20
        }
      ]
    },
    {
      "cell_type": "code",
      "metadata": {
        "colab": {
          "base_uri": "https://localhost:8080/",
          "height": 272
        },
        "id": "_SVSWV0gd-kW",
        "outputId": "12eb8b3a-9ca8-41c8-f93b-9f30f90ac395"
      },
      "source": [
        "print(titanic_test['Embarked'].isnull().sum())\n",
        "titanic_train.head()"
      ],
      "execution_count": 21,
      "outputs": [
        {
          "output_type": "stream",
          "text": [
            "0\n"
          ],
          "name": "stdout"
        },
        {
          "output_type": "execute_result",
          "data": {
            "text/html": [
              "<div>\n",
              "<style scoped>\n",
              "    .dataframe tbody tr th:only-of-type {\n",
              "        vertical-align: middle;\n",
              "    }\n",
              "\n",
              "    .dataframe tbody tr th {\n",
              "        vertical-align: top;\n",
              "    }\n",
              "\n",
              "    .dataframe thead th {\n",
              "        text-align: right;\n",
              "    }\n",
              "</style>\n",
              "<table border=\"1\" class=\"dataframe\">\n",
              "  <thead>\n",
              "    <tr style=\"text-align: right;\">\n",
              "      <th></th>\n",
              "      <th>PassengerId</th>\n",
              "      <th>Survived</th>\n",
              "      <th>Pclass</th>\n",
              "      <th>Name</th>\n",
              "      <th>Sex</th>\n",
              "      <th>Age</th>\n",
              "      <th>SibSp</th>\n",
              "      <th>Parch</th>\n",
              "      <th>Ticket</th>\n",
              "      <th>Fare</th>\n",
              "      <th>Cabin</th>\n",
              "      <th>Embarked</th>\n",
              "    </tr>\n",
              "  </thead>\n",
              "  <tbody>\n",
              "    <tr>\n",
              "      <th>0</th>\n",
              "      <td>1</td>\n",
              "      <td>0</td>\n",
              "      <td>3</td>\n",
              "      <td>Braund, Mr. Owen Harris</td>\n",
              "      <td>0</td>\n",
              "      <td>22.0</td>\n",
              "      <td>1</td>\n",
              "      <td>0</td>\n",
              "      <td>A/5 21171</td>\n",
              "      <td>7.2500</td>\n",
              "      <td>0</td>\n",
              "      <td>1</td>\n",
              "    </tr>\n",
              "    <tr>\n",
              "      <th>1</th>\n",
              "      <td>2</td>\n",
              "      <td>1</td>\n",
              "      <td>1</td>\n",
              "      <td>Cumings, Mrs. John Bradley (Florence Briggs Th...</td>\n",
              "      <td>1</td>\n",
              "      <td>38.0</td>\n",
              "      <td>1</td>\n",
              "      <td>0</td>\n",
              "      <td>PC 17599</td>\n",
              "      <td>71.2833</td>\n",
              "      <td>1</td>\n",
              "      <td>2</td>\n",
              "    </tr>\n",
              "    <tr>\n",
              "      <th>2</th>\n",
              "      <td>3</td>\n",
              "      <td>1</td>\n",
              "      <td>3</td>\n",
              "      <td>Heikkinen, Miss. Laina</td>\n",
              "      <td>1</td>\n",
              "      <td>26.0</td>\n",
              "      <td>0</td>\n",
              "      <td>0</td>\n",
              "      <td>STON/O2. 3101282</td>\n",
              "      <td>7.9250</td>\n",
              "      <td>0</td>\n",
              "      <td>1</td>\n",
              "    </tr>\n",
              "    <tr>\n",
              "      <th>3</th>\n",
              "      <td>4</td>\n",
              "      <td>1</td>\n",
              "      <td>1</td>\n",
              "      <td>Futrelle, Mrs. Jacques Heath (Lily May Peel)</td>\n",
              "      <td>1</td>\n",
              "      <td>35.0</td>\n",
              "      <td>1</td>\n",
              "      <td>0</td>\n",
              "      <td>113803</td>\n",
              "      <td>53.1000</td>\n",
              "      <td>1</td>\n",
              "      <td>1</td>\n",
              "    </tr>\n",
              "    <tr>\n",
              "      <th>4</th>\n",
              "      <td>5</td>\n",
              "      <td>0</td>\n",
              "      <td>3</td>\n",
              "      <td>Allen, Mr. William Henry</td>\n",
              "      <td>0</td>\n",
              "      <td>35.0</td>\n",
              "      <td>0</td>\n",
              "      <td>0</td>\n",
              "      <td>373450</td>\n",
              "      <td>8.0500</td>\n",
              "      <td>0</td>\n",
              "      <td>1</td>\n",
              "    </tr>\n",
              "  </tbody>\n",
              "</table>\n",
              "</div>"
            ],
            "text/plain": [
              "   PassengerId  Survived  Pclass  ...     Fare  Cabin  Embarked\n",
              "0            1         0       3  ...   7.2500      0         1\n",
              "1            2         1       1  ...  71.2833      1         2\n",
              "2            3         1       3  ...   7.9250      0         1\n",
              "3            4         1       1  ...  53.1000      1         1\n",
              "4            5         0       3  ...   8.0500      0         1\n",
              "\n",
              "[5 rows x 12 columns]"
            ]
          },
          "metadata": {
            "tags": []
          },
          "execution_count": 21
        }
      ]
    },
    {
      "cell_type": "markdown",
      "metadata": {
        "id": "srLb8uUcdlbl"
      },
      "source": [
        "for ticket and name"
      ]
    },
    {
      "cell_type": "code",
      "metadata": {
        "id": "nMEVOLWEdfRe"
      },
      "source": [
        "#dropping name\n",
        "\n",
        "titanic_train.drop(['Name'],axis=1,inplace=True)\n",
        "titanic_test.drop(['Name'],axis=1,inplace=True)\n"
      ],
      "execution_count": 22,
      "outputs": []
    },
    {
      "cell_type": "code",
      "metadata": {
        "id": "DFkZt7FtJuQ8"
      },
      "source": [
        "#dropping Ticket\n",
        "titanic_train.drop(['Ticket'],axis=1,inplace=True)\n",
        "titanic_test.drop(['Ticket'],axis=1,inplace=True)"
      ],
      "execution_count": 23,
      "outputs": []
    },
    {
      "cell_type": "code",
      "metadata": {
        "id": "vatR3_S1xOfR"
      },
      "source": [
        "#dropping passengerID\n",
        "train2=titanic_train.copy()\n",
        "train2.drop(['PassengerId'],axis=1,inplace=True)\n",
        "\n"
      ],
      "execution_count": 24,
      "outputs": []
    },
    {
      "cell_type": "markdown",
      "metadata": {
        "id": "vZE0xo0JK3EB"
      },
      "source": [
        "## training and classification"
      ]
    },
    {
      "cell_type": "markdown",
      "metadata": {
        "id": "TRZlwC9AW5Da"
      },
      "source": [
        "feature selection"
      ]
    },
    {
      "cell_type": "code",
      "metadata": {
        "id": "SWVPZWu2K97X"
      },
      "source": [
        "#split dataset in features and target variable\n",
        "feature_cols = ['PassengerId', 'Pclass', 'Sex','Age','SibSp','Parch','Fare','Cabin','Embarked']\n",
        "x= titanic_train[feature_cols] # Features\n",
        "f2=['Pclass', 'Sex','Age','SibSp','Parch','Fare','Cabin','Embarked']\n",
        "#x2= train2[f2] # Features\n",
        "y = titanic_train['Survived'] # Target variable"
      ],
      "execution_count": 25,
      "outputs": []
    },
    {
      "cell_type": "markdown",
      "metadata": {
        "id": "2y2fxUlccN6x"
      },
      "source": [
        "splitting the dataset to testset and train set"
      ]
    },
    {
      "cell_type": "code",
      "metadata": {
        "id": "Y6bt86kLcTxa"
      },
      "source": [
        "x_train, x_test, y_train, y_test = train_test_split(x, y, test_size=0.2, random_state=1) # 80% training and 20% test"
      ],
      "execution_count": 26,
      "outputs": []
    },
    {
      "cell_type": "markdown",
      "metadata": {
        "id": "hOX-YQcmnRNE"
      },
      "source": [
        "# criterion1"
      ]
    },
    {
      "cell_type": "markdown",
      "metadata": {
        "id": "hlX8lRUGdS1f"
      },
      "source": [
        "creating a desicion tree model with the entropy criterion and max_depth=3"
      ]
    },
    {
      "cell_type": "code",
      "metadata": {
        "id": "R17p6ooGdVW9",
        "colab": {
          "base_uri": "https://localhost:8080/"
        },
        "outputId": "5adaf109-3f8d-4f7b-fb0d-978c2228e347"
      },
      "source": [
        "# Create Decision Tree classifer object\n",
        "clf = DecisionTreeClassifier(criterion=\"entropy\",max_depth=3)\n",
        "\n",
        "# Train Decision Tree Classifer\n",
        "s1=time.time()\n",
        "clf = clf.fit(x_train,y_train)\n",
        "e1=time.time()\n",
        "\n",
        "#Predict the response for test dataset\n",
        "ts1=time.time()\n",
        "y_pred = clf.predict(x_test)\n",
        "te1=time.time()\n",
        "# Model Accuracy, how often is the classifier correct?\n",
        "print(\" Entropy with max_depth 3 Accuracy:\",metrics.accuracy_score(y_test, y_pred))\n",
        "print(\" train time:\",e1-s1)\n",
        "print(\" test time:\",te1-ts1)"
      ],
      "execution_count": null,
      "outputs": [
        {
          "output_type": "stream",
          "text": [
            " Entropy with max_depth 3 Accuracy: 0.8044692737430168\n",
            " train time: 0.0043048858642578125\n",
            " test time: 0.0016760826110839844\n"
          ],
          "name": "stdout"
        }
      ]
    },
    {
      "cell_type": "markdown",
      "metadata": {
        "id": "ElNwBtpmmdJt"
      },
      "source": [
        "visualizing the desicion tree"
      ]
    },
    {
      "cell_type": "markdown",
      "metadata": {
        "id": "VGfp4wyYnZPL"
      },
      "source": [
        "### criterion2"
      ]
    },
    {
      "cell_type": "markdown",
      "metadata": {
        "id": "4pgIYB4Pndx2"
      },
      "source": [
        "creating a desicion tree model with gini criterion, max_depth=3 and random splitter"
      ]
    },
    {
      "cell_type": "code",
      "metadata": {
        "id": "gLTavPr_nqpZ",
        "colab": {
          "base_uri": "https://localhost:8080/"
        },
        "outputId": "aacbfd80-0dd2-45ad-d180-a13fc7ac6814"
      },
      "source": [
        "# Create Decision Tree classifer object\n",
        "clf2 = DecisionTreeClassifier(criterion=\"gini\",splitter=\"random\",max_depth=3)\n",
        "\n",
        "# Train Decision Tree Classifer\n",
        "s2=time.time()\n",
        "clf2 = clf2.fit(x_train,y_train)\n",
        "e2=time.time()\n",
        "\n",
        "#Predict the response for test dataset\n",
        "ts2=time.time()\n",
        "y_pred2 = clf2.predict(x_test)\n",
        "te2=time.time()\n",
        "# Model Accuracy, how often is the classifier correct?\n",
        "print(\" GINI with max-depth 3 and random splitter Accuracy:\",metrics.accuracy_score(y_test, y_pred2))\n",
        "print(\" train time:\",e2-s2)\n",
        "print(\" test time:\",te2-ts2)"
      ],
      "execution_count": null,
      "outputs": [
        {
          "output_type": "stream",
          "text": [
            " GINI with max-depth 3 and random splitter Accuracy: 0.770949720670391\n",
            " train time: 0.002546072006225586\n",
            " test time: 0.003065824508666992\n"
          ],
          "name": "stdout"
        }
      ]
    },
    {
      "cell_type": "markdown",
      "metadata": {
        "id": "WE4YbJ5ApeAz"
      },
      "source": [
        "visualizing"
      ]
    },
    {
      "cell_type": "markdown",
      "metadata": {
        "id": "Ci_Vsu3QpxD2"
      },
      "source": [
        "# #criterion 3"
      ]
    },
    {
      "cell_type": "markdown",
      "metadata": {
        "id": "y5MJgLJEqG_J"
      },
      "source": [
        "gini criterion and max depth 6"
      ]
    },
    {
      "cell_type": "code",
      "metadata": {
        "colab": {
          "base_uri": "https://localhost:8080/"
        },
        "id": "QJfqNMILp01W",
        "outputId": "1da3bddf-db31-4e58-9270-7e95fda9084b"
      },
      "source": [
        "# Create Decision Tree classifer object\n",
        "clf3 = DecisionTreeClassifier(criterion=\"gini\",max_depth=6)\n",
        "\n",
        "# Train Decision Tree Classifer\n",
        "s3=time.time()\n",
        "clf3 = clf3.fit(x_train,y_train)\n",
        "e3=time.time()\n",
        "#Predict the response for test dataset\n",
        "ts3=time.time()\n",
        "y_pred3 = clf3.predict(x_test)\n",
        "te3=time.time()\n",
        "# Model Accuracy, how often is the classifier correct?\n",
        "print(\" GINI Accuracy with  max depth=6 :\",metrics.accuracy_score(y_test, y_pred3))\n",
        "print(\"train time:\",e3-s3)\n",
        "print(\"test time:\",te3-ts3)"
      ],
      "execution_count": null,
      "outputs": [
        {
          "output_type": "stream",
          "text": [
            " GINI Accuracy with  max depth=6 : 0.776536312849162\n",
            "train time: 0.00450587272644043\n",
            "test time: 0.002727508544921875\n"
          ],
          "name": "stdout"
        }
      ]
    },
    {
      "cell_type": "markdown",
      "metadata": {
        "id": "EpOxbtguswqk"
      },
      "source": [
        "# criterion4"
      ]
    },
    {
      "cell_type": "markdown",
      "metadata": {
        "id": "knoQrfoZszOH"
      },
      "source": [
        "entropy with  max depth=6 and best splitter"
      ]
    },
    {
      "cell_type": "code",
      "metadata": {
        "colab": {
          "base_uri": "https://localhost:8080/"
        },
        "id": "T3fd9RxLtQp8",
        "outputId": "ade18840-51eb-4e48-c91b-79fded3bc309"
      },
      "source": [
        "# Create Decision Tree classifer object\n",
        "clf4 = DecisionTreeClassifier(criterion=\"entropy\",splitter=\"best\",max_depth=6)\n",
        "\n",
        "# Train Decision Tree Classifer\n",
        "s4=time.time()\n",
        "clf4 = clf4.fit(x_train,y_train)\n",
        "e4=time.time()\n",
        "#Predict the response for test dataset\n",
        "ts4=time.time()\n",
        "y_pred4 = clf4.predict(x_test)\n",
        "te4=time.time()\n",
        "# Model Accuracy, how often is the classifier correct?\n",
        "print(\" entropy Accuracy with max depth 6 and best splitter:\",metrics.accuracy_score(y_test, y_pred4))\n",
        "print(\"train time:\",e4-s4)\n",
        "print(\"test time:\",te4-ts4)"
      ],
      "execution_count": null,
      "outputs": [
        {
          "output_type": "stream",
          "text": [
            " entropy Accuracy with max depth 6 and best splitter: 0.7653631284916201\n",
            "train time: 0.010361433029174805\n",
            "test time: 0.0011327266693115234\n"
          ],
          "name": "stdout"
        }
      ]
    },
    {
      "cell_type": "markdown",
      "metadata": {
        "id": "m1g5DZPQivXj"
      },
      "source": [
        "# **random forest**"
      ]
    },
    {
      "cell_type": "markdown",
      "metadata": {
        "id": "-vvxCpeam0_y"
      },
      "source": [
        "criterion 1"
      ]
    },
    {
      "cell_type": "code",
      "metadata": {
        "colab": {
          "base_uri": "https://localhost:8080/"
        },
        "id": "RzyqjmD6mLJ3",
        "outputId": "93037a0a-55c5-44d7-b25d-ea5748139cef"
      },
      "source": [
        "\n",
        "# Instantiate model\n",
        "rf1 = RandomForestClassifier(criterion='entropy',max_depth=3)\n",
        "# Train the model on training data\n",
        "start1=time.time()\n",
        "rf1.fit(x_train,y_train);\n",
        "end1=time.time()\n",
        "#Predict the response for test dataset\n",
        "\n",
        "tstart1=time.time()\n",
        "y_pred11 = rf1.predict(x_test)\n",
        "tend1=time.time()\n",
        "\n",
        "# Model Accuracy, how often is the classifier correct?\n",
        "print(\" ENTROPY with max-depth 3 :\",metrics.accuracy_score(y_test, y_pred11))\n",
        "print(\"train time:\",end1-start1)\n",
        "print(\"test time:\",tend1-tstart1)"
      ],
      "execution_count": null,
      "outputs": [
        {
          "output_type": "stream",
          "text": [
            " ENTROPY with max-depth 3 : 0.7932960893854749\n",
            "train time: 0.17912054061889648\n",
            "test time: 0.011615753173828125\n"
          ],
          "name": "stdout"
        }
      ]
    },
    {
      "cell_type": "markdown",
      "metadata": {
        "id": "QzfuRIFOm7P4"
      },
      "source": [
        "criterion 2"
      ]
    },
    {
      "cell_type": "code",
      "metadata": {
        "colab": {
          "base_uri": "https://localhost:8080/"
        },
        "id": "EiC2UwWu56c-",
        "outputId": "c43aa417-3fdf-4594-ccc4-b14933e9c28f"
      },
      "source": [
        "# Instantiate model\n",
        "rf2 = RandomForestClassifier(criterion='gini',max_depth=3)\n",
        "# Train the model on training data\n",
        "start2=time.time()\n",
        "rf2.fit(x_train,y_train);\n",
        "end2=time.time()\n",
        "#Predict the response for test dataset\n",
        "tstart2=time.time()\n",
        "y_pred2 = rf2.predict(x_test)\n",
        "tend2=time.time()\n",
        "# Model Accuracy, how often is the classifier correct?\n",
        "print(\" GINI with max-depth 3 :\",metrics.accuracy_score(y_test, y_pred2))\n",
        "print(\"train time:\",end2-start2)\n",
        "print(\"test time:\",tend2-tstart2)"
      ],
      "execution_count": null,
      "outputs": [
        {
          "output_type": "stream",
          "text": [
            " GINI with max-depth 3 : 0.7821229050279329\n",
            "train time: 0.17067193984985352\n",
            "test time: 0.012374162673950195\n"
          ],
          "name": "stdout"
        }
      ]
    },
    {
      "cell_type": "markdown",
      "metadata": {
        "id": "6P3ursOy6iz8"
      },
      "source": [
        "criterion 3"
      ]
    },
    {
      "cell_type": "code",
      "metadata": {
        "colab": {
          "base_uri": "https://localhost:8080/"
        },
        "id": "h7XIGDmN7cfP",
        "outputId": "b5ec4aba-f17f-4a00-b39d-b06941a69ce3"
      },
      "source": [
        "# Instantiate model\n",
        "rf3 = RandomForestClassifier(criterion='gini',max_depth=6)\n",
        "# Train the model on training data\n",
        "start3=time.time()\n",
        "rf3.fit(x_train,y_train);\n",
        "end3=time.time()\n",
        "#Predict the response for test dataset\n",
        "tstart3=time.time()\n",
        "y_pred3 = rf3.predict(x_test)\n",
        "tend3=time.time()\n",
        "# Model Accuracy, how often is the classifier correct?\n",
        "print(\" GINI with max-depth 6 :\",metrics.accuracy_score(y_test, y_pred3))\n",
        "print(\"train time:\",end3-start3)\n",
        "print(\" test time:\",tend3-tstart3)"
      ],
      "execution_count": null,
      "outputs": [
        {
          "output_type": "stream",
          "text": [
            " GINI with max-depth 6 : 0.7821229050279329\n",
            "train time: 0.19018101692199707\n",
            " test time: 0.012245416641235352\n"
          ],
          "name": "stdout"
        }
      ]
    },
    {
      "cell_type": "markdown",
      "metadata": {
        "id": "uRffshXY7upx"
      },
      "source": [
        "criterion4"
      ]
    },
    {
      "cell_type": "code",
      "metadata": {
        "colab": {
          "base_uri": "https://localhost:8080/"
        },
        "id": "GbiegmT-7wC4",
        "outputId": "6b1bd6df-90d4-496e-f6c2-f646ebceb452"
      },
      "source": [
        "# Instantiate model\n",
        "rf4 = RandomForestClassifier(criterion='entropy',max_depth=6)\n",
        "# Train the model on training data\n",
        "start4=time.time()\n",
        "rf4.fit(x_train,y_train);\n",
        "end4=time.time()\n",
        "#Predict the response for test dataset\n",
        "tstart4=time.time()\n",
        "y_pred4 = rf4.predict(x_test)\n",
        "tend4=time.time()\n",
        "# Model Accuracy, how often is the classifier correct?\n",
        "print(\" ENTROPY with max-depth 6 :\",metrics.accuracy_score(y_test, y_pred4))\n",
        "print(\"train time:\",end4-start4)\n",
        "print(\" test time:\",tend4-tstart4)"
      ],
      "execution_count": null,
      "outputs": [
        {
          "output_type": "stream",
          "text": [
            " ENTROPY with max-depth 6 : 0.776536312849162\n",
            "train time: 0.21013736724853516\n",
            " test time: 0.011944055557250977\n"
          ],
          "name": "stdout"
        }
      ]
    },
    {
      "cell_type": "markdown",
      "metadata": {
        "id": "wuE5uX44fA-Z"
      },
      "source": [
        "# **linear SVM**"
      ]
    },
    {
      "cell_type": "code",
      "metadata": {
        "colab": {
          "base_uri": "https://localhost:8080/"
        },
        "id": "LA6YkBQpfG0U",
        "outputId": "6e94c200-f40c-4768-9238-9c55b0f202de"
      },
      "source": [
        "from sklearn.svm import SVC\n",
        "svclassifier = SVC(kernel='linear')\n",
        "svclassifier.fit(x_train, y_train)\n",
        "y_pred = svclassifier.predict(x_test)\n",
        "print(\" linear SVM accuracy :\",metrics.accuracy_score(y_test, y_pred))"
      ],
      "execution_count": 37,
      "outputs": [
        {
          "output_type": "stream",
          "text": [
            " linear SVM accuracy : 0.776536312849162\n"
          ],
          "name": "stdout"
        }
      ]
    },
    {
      "cell_type": "markdown",
      "metadata": {
        "id": "5llFX38Nfwtq"
      },
      "source": [
        "# **sigmoid kernel SVM**"
      ]
    },
    {
      "cell_type": "code",
      "metadata": {
        "colab": {
          "base_uri": "https://localhost:8080/"
        },
        "id": "7rPoH4wIf12U",
        "outputId": "e7961291-6756-404f-881c-9be2a0e1a83b"
      },
      "source": [
        "from sklearn.svm import SVC\n",
        "svclassifier = SVC(kernel='sigmoid')\n",
        "svclassifier.fit(x_train, y_train)\n",
        "y_pred = svclassifier.predict(x_test)\n",
        "print(\" linear SVM accuracy :\",metrics.accuracy_score(y_test, y_pred))"
      ],
      "execution_count": 35,
      "outputs": [
        {
          "output_type": "stream",
          "text": [
            " linear SVM accuracy : 0.4860335195530726\n"
          ],
          "name": "stdout"
        }
      ]
    },
    {
      "cell_type": "markdown",
      "metadata": {
        "id": "RX4sTcBWf8TT"
      },
      "source": [
        "# **gaussian kernel SVM**"
      ]
    },
    {
      "cell_type": "code",
      "metadata": {
        "colab": {
          "base_uri": "https://localhost:8080/"
        },
        "id": "kG4sjSW7gAb4",
        "outputId": "029d1b88-b6fd-4b60-92a8-6933877d3e44"
      },
      "source": [
        "from sklearn.svm import SVC\n",
        "svclassifier = SVC(kernel='rbf')\n",
        "svclassifier.fit(x_train, y_train)\n",
        "y_pred = svclassifier.predict(x_test)\n",
        "print(\" guassian SVM accuracy :\",metrics.accuracy_score(y_test, y_pred))"
      ],
      "execution_count": 36,
      "outputs": [
        {
          "output_type": "stream",
          "text": [
            " guassian SVM accuracy : 0.6312849162011173\n"
          ],
          "name": "stdout"
        }
      ]
    },
    {
      "cell_type": "markdown",
      "metadata": {
        "id": "79xzSNN4gJEU"
      },
      "source": [
        "# **Polynomial kernel SVM**"
      ]
    },
    {
      "cell_type": "code",
      "metadata": {
        "colab": {
          "base_uri": "https://localhost:8080/"
        },
        "id": "c7qFDZoSgO1l",
        "outputId": "7c169d91-0dd2-4a96-cdf2-3d29cab77065"
      },
      "source": [
        "from sklearn.svm import SVC\n",
        "svclassifier = SVC(kernel='poly',degree=3)\n",
        "svclassifier.fit(x_train, y_train)\n",
        "y_pred = svclassifier.predict(x_test)\n",
        "print(\" polynomial SVM accuracy :\",metrics.accuracy_score(y_test, y_pred))"
      ],
      "execution_count": 34,
      "outputs": [
        {
          "output_type": "stream",
          "text": [
            " polynomial SVM accuracy : 0.6312849162011173\n"
          ],
          "name": "stdout"
        }
      ]
    }
  ]
}